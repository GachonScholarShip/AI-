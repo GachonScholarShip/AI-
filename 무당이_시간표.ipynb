{
  "nbformat": 4,
  "nbformat_minor": 0,
  "metadata": {
    "colab": {
      "provenance": []
    },
    "kernelspec": {
      "name": "python3",
      "display_name": "Python 3"
    },
    "language_info": {
      "name": "python"
    }
  },
  "cells": [
    {
      "cell_type": "markdown",
      "source": [
        "무당이 버스 몇분 후 도착 코드 초안"
      ],
      "metadata": {
        "id": "nuJAnfRX1wdo"
      }
    },
    {
      "cell_type": "code",
      "source": [
        "{\n",
        "    \"morning\": [\n",
        "        {\"time\": \"09:05\"}, {\"time\": \"09:10\"}, {\"time\": \"09:15\"}, {\"time\": \"09:20\"},\n",
        "        {\"time\": \"09:25\"}, {\"time\": \"09:30\"}, {\"time\": \"09:35\"}, {\"time\": \"09:40\"},\n",
        "        {\"time\": \"09:45\"}, {\"time\": \"09:55\"}, {\"time\": \"10:10\"}, {\"time\": \"10:25\"},\n",
        "        {\"time\": \"10:40\"}, {\"time\": \"11:05\"}, {\"time\": \"11:20\"}, {\"time\": \"11:35\"},\n",
        "        {\"time\": \"11:40\"}\n",
        "    ],\n",
        "    \"afternoon\": [\n",
        "        {\"time\": \"13:05\"}, {\"time\": \"13:10\"}, {\"time\": \"13:15\"}, {\"time\": \"13:20\"},\n",
        "        {\"time\": \"13:25\"}, {\"time\": \"13:30\"}, {\"time\": \"13:35\"}, {\"time\": \"13:40\"},\n",
        "        {\"time\": \"13:45\"}, {\"time\": \"13:55\"}, {\"time\": \"14:10\"}, {\"time\": \"14:25\"},\n",
        "        {\"time\": \"14:40\"}, {\"time\": \"14:55\"}, {\"time\": \"15:10\"}, {\"time\": \"15:25\"},\n",
        "        {\"time\": \"15:40\"}\n",
        "    ]\n",
        "}"
      ],
      "metadata": {
        "colab": {
          "base_uri": "https://localhost:8080/"
        },
        "id": "r72lGpGA11O6",
        "outputId": "2313e35d-906a-4602-b257-a55138eb90ea"
      },
      "execution_count": 1,
      "outputs": [
        {
          "output_type": "execute_result",
          "data": {
            "text/plain": [
              "{'morning': [{'time': '09:05'},\n",
              "  {'time': '09:10'},\n",
              "  {'time': '09:15'},\n",
              "  {'time': '09:20'},\n",
              "  {'time': '09:25'},\n",
              "  {'time': '09:30'},\n",
              "  {'time': '09:35'},\n",
              "  {'time': '09:40'},\n",
              "  {'time': '09:45'},\n",
              "  {'time': '09:55'},\n",
              "  {'time': '10:10'},\n",
              "  {'time': '10:25'},\n",
              "  {'time': '10:40'},\n",
              "  {'time': '11:05'},\n",
              "  {'time': '11:20'},\n",
              "  {'time': '11:35'},\n",
              "  {'time': '11:40'}],\n",
              " 'afternoon': [{'time': '13:05'},\n",
              "  {'time': '13:10'},\n",
              "  {'time': '13:15'},\n",
              "  {'time': '13:20'},\n",
              "  {'time': '13:25'},\n",
              "  {'time': '13:30'},\n",
              "  {'time': '13:35'},\n",
              "  {'time': '13:40'},\n",
              "  {'time': '13:45'},\n",
              "  {'time': '13:55'},\n",
              "  {'time': '14:10'},\n",
              "  {'time': '14:25'},\n",
              "  {'time': '14:40'},\n",
              "  {'time': '14:55'},\n",
              "  {'time': '15:10'},\n",
              "  {'time': '15:25'},\n",
              "  {'time': '15:40'}]}"
            ]
          },
          "metadata": {},
          "execution_count": 1
        }
      ]
    },
    {
      "cell_type": "code",
      "execution_count": 2,
      "metadata": {
        "colab": {
          "base_uri": "https://localhost:8080/"
        },
        "id": "IKd5bqDv1u5o",
        "outputId": "3324e716-03b6-4d77-b10c-eca8195ec095"
      },
      "outputs": [
        {
          "output_type": "stream",
          "name": "stdout",
          "text": [
            "다음 버스는 09:05에 도착하며 29분 후에 옵니다.\n"
          ]
        }
      ],
      "source": [
        "import datetime\n",
        "\n",
        "def get_next_bus(schedule):\n",
        "    now = datetime.datetime.now()\n",
        "    current_time = now.hour * 60 + now.minute  # 현재 시간을 분 단위로 변환\n",
        "\n",
        "    upcoming_buses = []\n",
        "    for entry in schedule:\n",
        "        bus_time = int(entry[\"time\"].split(\":\")[0]) * 60 + int(entry[\"time\"].split(\":\")[1])\n",
        "        if bus_time > current_time:\n",
        "            upcoming_buses.append((entry[\"time\"], bus_time - current_time))\n",
        "\n",
        "    if upcoming_buses:\n",
        "        next_bus = min(upcoming_buses, key=lambda x: x[1])\n",
        "        return f\"다음 버스는 {next_bus[0]}에 도착하며 {next_bus[1]}분 후에 옵니다.\"\n",
        "    else:\n",
        "        return \"오늘 남은 버스가 없습니다.\"\n",
        "\n",
        "bus_schedule = {\n",
        "    \"morning\": [\n",
        "        {\"time\": \"09:05\"}, {\"time\": \"09:10\"}, {\"time\": \"09:15\"}, {\"time\": \"09:20\"},\n",
        "        {\"time\": \"09:25\"}, {\"time\": \"09:30\"}, {\"time\": \"09:35\"}, {\"time\": \"09:40\"},\n",
        "        {\"time\": \"09:45\"}, {\"time\": \"09:55\"}, {\"time\": \"10:10\"}, {\"time\": \"10:25\"},\n",
        "        {\"time\": \"10:40\"}, {\"time\": \"11:05\"}, {\"time\": \"11:20\"}, {\"time\": \"11:35\"},\n",
        "        {\"time\": \"11:40\"}\n",
        "    ],\n",
        "    \"afternoon\": [\n",
        "        {\"time\": \"13:05\"}, {\"time\": \"13:10\"}, {\"time\": \"13:15\"}, {\"time\": \"13:20\"},\n",
        "        {\"time\": \"13:25\"}, {\"time\": \"13:30\"}, {\"time\": \"13:35\"}, {\"time\": \"13:40\"},\n",
        "        {\"time\": \"13:45\"}, {\"time\": \"13:55\"}, {\"time\": \"14:10\"}, {\"time\": \"14:25\"},\n",
        "        {\"time\": \"14:40\"}, {\"time\": \"14:55\"}, {\"time\": \"15:10\"}, {\"time\": \"15:25\"},\n",
        "        {\"time\": \"15:40\"}\n",
        "    ]\n",
        "}\n",
        "\n",
        "# 오전 및 오후 스케줄 합치기\n",
        "full_schedule = bus_schedule[\"morning\"] + bus_schedule[\"afternoon\"]\n",
        "\n",
        "# 다음 버스 시간 확인\n",
        "print(get_next_bus(full_schedule))"
      ]
    }
  ]
}